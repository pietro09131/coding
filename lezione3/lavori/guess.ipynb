{
 "cells": [
  {
   "cell_type": "code",
   "execution_count": 1,
   "metadata": {},
   "outputs": [
    {
     "data": {
      "text/plain": [
       "4"
      ]
     },
     "execution_count": 1,
     "metadata": {},
     "output_type": "execute_result"
    }
   ],
   "source": [
    "2+2"
   ]
  },
  {
   "cell_type": "code",
   "execution_count": 6,
   "metadata": {},
   "outputs": [
    {
     "name": "stdout",
     "output_type": "stream",
     "text": [
      "Troppo grande!\n",
      "Troppo grande!\n",
      "Troppo grande!\n",
      "Troppo grande!\n",
      "Troppo grande!\n",
      "Bravo, hai indovinato!, ci hai messo 6 tentativi\n"
     ]
    }
   ],
   "source": [
    "import random\n",
    "\n",
    "\n",
    "n = random.randint(1,100)\n",
    "win = False\n",
    "attemps = 0 \n",
    "\n",
    "while not win:\n",
    "    guess = int(input(\"Prova ad indovinare: \"))\n",
    "    attemps = attemps + 1\n",
    "    if guess == n:\n",
    "        win = True\n",
    "        print(\"Bravo, hai indovinato!, ci hai messo\", attemps, \"tentativi\" )\n",
    "    elif guess > n:\n",
    "        print(\"Troppo grande!\")\n",
    "    else:\n",
    "        print(\"Troppo piccolo!\")\n",
    "\n"
   ]
  },
  {
   "cell_type": "code",
   "execution_count": 16,
   "metadata": {},
   "outputs": [
    {
     "name": "stdout",
     "output_type": "stream",
     "text": [
      "2 3\n",
      "10 6\n",
      "2 4\n",
      "12 8\n",
      "False\n"
     ]
    }
   ],
   "source": [
    "class Rettangolo:\n",
    "    def __init__(self, b, h):\n",
    "        self.b = b\n",
    "        self.h = h\n",
    "\n",
    "    def perimeter(self):\n",
    "        return 2 * (self.b + self.h)\n",
    "    \n",
    "    def area(self):\n",
    "        return self.b * self.h\n",
    "    \n",
    "    def is_equivalent(self, rect):\n",
    "        if self.area() == rect.area():\n",
    "            return True\n",
    "        return False\n",
    "    \n",
    "\n",
    "\n",
    "rect1 = Rettangolo(2, 3)\n",
    "rect2 = Rettangolo(2, 4)\n",
    "rect3 = Rettangolo(8, 9)\n",
    "\n",
    "print(rect1.b, rect1.h)\n",
    "print(rect1.perimeter(), rect1.area())\n",
    "\n",
    "print(rect2.b, rect2.h)\n",
    "print(rect2.perimeter(), rect2.area())\n",
    "\n",
    "print(rect1.is_equivalent(rect2))\n"
   ]
  },
  {
   "cell_type": "code",
   "execution_count": 34,
   "metadata": {},
   "outputs": [],
   "source": [
    "import random\n",
    "\n",
    "class Guessthenumber:\n",
    "    def __init__(self):\n",
    "        self.n = random.randint(1, 100)\n",
    "        self.win = False\n",
    "\n",
    "    def guess(self, number):\n",
    "        if number == self.n:\n",
    "            self.win = True\n",
    "            print(\"Bravo!, hai indovinato\")\n",
    "        elif number > self.n:\n",
    "            print(\"Troppo grande!\")\n",
    "        elif number < self.n:\n",
    "            print(\"Troppo piccolo\")\n",
    "\n",
    "    def play(self):\n",
    "        while not self.win:\n",
    "            number = int(input(\"prova a indovinare\"))\n",
    "            self.guess(number)"
   ]
  },
  {
   "cell_type": "code",
   "execution_count": 35,
   "metadata": {},
   "outputs": [
    {
     "name": "stdout",
     "output_type": "stream",
     "text": [
      "Troppo grande!\n",
      "Troppo piccolo\n",
      "Troppo piccolo\n",
      "Troppo piccolo\n",
      "Troppo piccolo\n",
      "Troppo piccolo\n",
      "Troppo piccolo\n",
      "Troppo piccolo\n",
      "Troppo piccolo\n",
      "Troppo grande!\n",
      "Bravo!, hai indovinato\n"
     ]
    }
   ],
   "source": [
    "game = Guessthenumber()\n",
    "game.play()"
   ]
  }
 ],
 "metadata": {
  "kernelspec": {
   "display_name": "Python 3",
   "language": "python",
   "name": "python3"
  },
  "language_info": {
   "codemirror_mode": {
    "name": "ipython",
    "version": 3
   },
   "file_extension": ".py",
   "mimetype": "text/x-python",
   "name": "python",
   "nbconvert_exporter": "python",
   "pygments_lexer": "ipython3",
   "version": "3.12.1"
  }
 },
 "nbformat": 4,
 "nbformat_minor": 2
}
